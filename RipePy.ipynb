{
 "cells": [
  {
   "cell_type": "code",
   "execution_count": 1,
   "metadata": {},
   "outputs": [],
   "source": [
    "import json, urllib2"
   ]
  },
  {
   "cell_type": "code",
   "execution_count": 2,
   "metadata": {},
   "outputs": [],
   "source": [
    "ip = '213.152.161.30'\n",
    "\n",
    "url='http://rest.db.ripe.net/search.json?query-string=%s' % ip\n",
    "request  = urllib2.Request(url)\n",
    "response = urllib2.urlopen(request, timeout=5)\n",
    "jsdata   = json.load(response)"
   ]
  },
  {
   "cell_type": "code",
   "execution_count": 3,
   "metadata": {},
   "outputs": [],
   "source": [
    "class Ripe(object):\n",
    "    def __init__(self, **kwargs):\n",
    "        self.__dict__ = kwargs\n",
    "    \n",
    "class RipeObj(object):\n",
    "    def __init__(self, ripedict):\n",
    "        self.__dict__ = ripedict\n",
    "\n",
    "class Inetnum(RipeObj):\n",
    "    def __repr__ (self):\n",
    "        return self.inetnum\n",
    "    def __str__ (self):\n",
    "        return \"inetnum=%s, netname=%s, country=%s\" % (self.inetnum, self.netname, self.country)\n",
    "        \n",
    "class Route(RipeObj):\n",
    "    def __repr__ (self):\n",
    "        return self.route\n",
    "    def __str__ (self):\n",
    "        return \"route=%s, origin=%s, descr=%s\" % (self.route, self.origin, self.descr)\n",
    " \n"
   ]
  },
  {
   "cell_type": "code",
   "execution_count": 4,
   "metadata": {},
   "outputs": [],
   "source": [
    "ripe = Ripe()\n",
    "for item in jsdata['objects']['object']:\n",
    "    ripedict = dict()\n",
    "    for k, attrib in enumerate(item['attributes']['attribute']):\n",
    "        try:\n",
    "            ripedict[attrib['name'].replace('-','_')]=attrib['value']\n",
    "        except:\n",
    "            pass\n",
    "        \n",
    "        if k==0:\n",
    "            objtype = attrib['name']\n",
    "            \n",
    "    if objtype=='route':\n",
    "        ripe.route=Route(ripedict)\n",
    "    if objtype=='inetnum':\n",
    "        ripe.inetnum=Inetnum(ripedict)\n",
    "\n",
    "   "
   ]
  },
  {
   "cell_type": "code",
   "execution_count": 5,
   "metadata": {},
   "outputs": [
    {
     "data": {
      "text/plain": [
       "213.152.161.0 - 213.152.161.184"
      ]
     },
     "execution_count": 5,
     "metadata": {},
     "output_type": "execute_result"
    }
   ],
   "source": [
    "ripe.inetnum"
   ]
  },
  {
   "cell_type": "code",
   "execution_count": 6,
   "metadata": {},
   "outputs": [
    {
     "data": {
      "text/plain": [
       "213.152.161.0/24"
      ]
     },
     "execution_count": 6,
     "metadata": {},
     "output_type": "execute_result"
    }
   ],
   "source": [
    "ripe.route"
   ]
  },
  {
   "cell_type": "code",
   "execution_count": null,
   "metadata": {},
   "outputs": [],
   "source": [
    "print (ripe.inetnum)"
   ]
  },
  {
   "cell_type": "code",
   "execution_count": 7,
   "metadata": {},
   "outputs": [
    {
     "name": "stdout",
     "output_type": "stream",
     "text": [
      "inetnum=213.152.161.0 - 213.152.161.184, netname=NL-AIR, country=NL\n",
      "route=213.152.161.0/24, origin=AS49453, descr=Global Layer network\n"
     ]
    }
   ],
   "source": [
    "print (ripe.route)"
   ]
  },
  {
   "cell_type": "code",
   "execution_count": null,
   "metadata": {},
   "outputs": [],
   "source": []
  }
 ],
 "metadata": {
  "kernelspec": {
   "display_name": "Python 2",
   "language": "python",
   "name": "python2"
  },
  "language_info": {
   "codemirror_mode": {
    "name": "ipython",
    "version": 2
   },
   "file_extension": ".py",
   "mimetype": "text/x-python",
   "name": "python",
   "nbconvert_exporter": "python",
   "pygments_lexer": "ipython2",
   "version": "2.7.15rc1"
  }
 },
 "nbformat": 4,
 "nbformat_minor": 2
}
